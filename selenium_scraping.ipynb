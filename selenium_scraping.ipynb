{
 "cells": [
  {
   "cell_type": "code",
   "execution_count": null,
   "metadata": {},
   "outputs": [],
   "source": [
    "!pip install -r requirements.txt"
   ]
  },
  {
   "cell_type": "code",
   "execution_count": 4,
   "metadata": {},
   "outputs": [],
   "source": [
    "from os import environ\n",
    "from dotenv import load_dotenv\n",
    "from pprint import pprint\n",
    "from time import sleep\n",
    "from datetime import datetime\n",
    "from pymongo import MongoClient\n",
    "\n",
    "# Selenium Web Scraping\n",
    "from selenium import webdriver\n",
    "from selenium.webdriver.chrome.service import Service as ChromeService\n",
    "from selenium.webdriver.chrome.options import Options\n",
    "from selenium.webdriver.common.by import By\n",
    "from webdriver_manager.chrome import ChromeDriverManager"
   ]
  },
  {
   "cell_type": "markdown",
   "metadata": {},
   "source": [
    "# Scraping Simulando Interacción Humana\n",
    "\n",
    "Tecnologías:  \n",
    "- `Selenium` (Python / Javascript)\n",
    "- `Puppeteer` (Javacript)\n",
    "\n",
    "\n",
    "Estas librerías emplean un `Driver` del navegador que queremos utilizar para la automatización.\n",
    "\n",
    "En este taller, utilizaremos `Google Chrome`, por lo tanto debemos instalar el driver adecuado.\n",
    "\n",
    "Afortunadamente existen librerías como `Webdriver Manager` que nos permiten instalar el driver un solo comando en Python.\n",
    "\n",
    "Vamos a crear una función que nos permita instanciar el driver para nuestra automatización. `Headless` es una opción que permite ocular el navegador. Se utiliza bastante en ambientes en `donde no hay interfaz gráfica`, como por ejemplo una máquina en `EC2` o un `Función Lambda`\n"
   ]
  },
  {
   "cell_type": "code",
   "execution_count": 5,
   "metadata": {},
   "outputs": [],
   "source": [
    "def get_webdriver(headless: bool = False) -> webdriver:\n",
    "    options = Options()\n",
    "\n",
    "    if headless:\n",
    "        options.add_argument(\"--headless\")\n",
    "        options.add_argument(\"--window-size=1920,1080\")\n",
    "\n",
    "    return webdriver.Chrome(service=ChromeService(ChromeDriverManager().install()), options=options)"
   ]
  },
  {
   "cell_type": "code",
   "execution_count": 6,
   "metadata": {},
   "outputs": [],
   "source": [
    "driver = get_webdriver()"
   ]
  },
  {
   "cell_type": "code",
   "execution_count": 7,
   "metadata": {},
   "outputs": [],
   "source": [
    "driver.get('https://webscraper.io/test-sites/e-commerce/allinone')"
   ]
  },
  {
   "cell_type": "code",
   "execution_count": 8,
   "metadata": {},
   "outputs": [
    {
     "name": "stdout",
     "output_type": "stream",
     "text": [
      "['Sony Xperia', 'Dell Latitude...', 'Apple MacBook...']\n"
     ]
    }
   ],
   "source": [
    "all_rows = driver.find_elements(by=By.CLASS_NAME, value=\"row\")\n",
    "row_with_items = all_rows[2]\n",
    "urls = row_with_items.find_elements(by=By.TAG_NAME, value=\"a\")\n",
    "\n",
    "print([element.text for element in urls])"
   ]
  },
  {
   "cell_type": "code",
   "execution_count": 9,
   "metadata": {},
   "outputs": [],
   "source": [
    "first_url = urls[0].get_attribute('href')\n",
    "driver.get(first_url)"
   ]
  },
  {
   "cell_type": "code",
   "execution_count": 10,
   "metadata": {},
   "outputs": [
    {
     "data": {
      "text/plain": [
       "{'product_name': 'Sony Xperia',\n",
       " 'product_description': 'GPS, waterproof',\n",
       " 'product_price': 118.99,\n",
       " 'timestamp': datetime.datetime(2025, 6, 5, 0, 32, 43, 997349)}"
      ]
     },
     "execution_count": 10,
     "metadata": {},
     "output_type": "execute_result"
    }
   ],
   "source": [
    "record = {}\n",
    "\n",
    "record[\"product_name\"] = driver.find_element(by=By.CLASS_NAME, value=\"title\").text\n",
    "record[\"product_description\"] = driver.find_element(by=By.CLASS_NAME, value=\"description\").text\n",
    "record[\"product_price\"] = float(driver.find_element(by=By.CLASS_NAME, value=\"price\").text.strip(\"$\"))\n",
    "record[\"timestamp\"] = datetime.now()\n",
    "\n",
    "record"
   ]
  },
  {
   "cell_type": "markdown",
   "metadata": {},
   "source": [
    "Podemos crear un funcion que haga scraping de la pagina de un producto.\n",
    "Pasamos el `driver` y el `url` de la pagina del producto"
   ]
  },
  {
   "cell_type": "code",
   "execution_count": 11,
   "metadata": {},
   "outputs": [],
   "source": [
    "GRUPO = \"X\"\n",
    "def scrap_product_page(driver: webdriver, url: str):\n",
    "    driver.get(url)\n",
    "    record = {}\n",
    "\n",
    "    record[\"group_name\"] = f\"GRUPO-{GRUPO}\"\n",
    "    record[\"method\"] = \"selenium\"\n",
    "    record[\"product_name\"] = driver.find_element(by=By.CLASS_NAME, value=\"title\").text\n",
    "    record[\"product_description\"] = driver.find_element(by=By.CLASS_NAME, value=\"description\").text\n",
    "    record[\"product_price\"] = float(driver.find_element(by=By.CLASS_NAME, value=\"price\").text.strip(\"$\"))\n",
    "    record[\"timestamp\"] = datetime.now()\n",
    "\n",
    "    return record"
   ]
  },
  {
   "cell_type": "markdown",
   "metadata": {},
   "source": [
    "Ahora itentemos scrapear todos los productos de telefonos/touch"
   ]
  },
  {
   "cell_type": "code",
   "execution_count": 12,
   "metadata": {},
   "outputs": [
    {
     "name": "stdout",
     "output_type": "stream",
     "text": [
      "[{'group_name': 'GRUPO-X',\n",
      "  'method': 'selenium',\n",
      "  'product_description': '7 day battery',\n",
      "  'product_name': 'Nokia 123',\n",
      "  'product_price': 24.99,\n",
      "  'timestamp': datetime.datetime(2025, 6, 5, 0, 32, 47, 599204)}]\n",
      "[{'group_name': 'GRUPO-X',\n",
      "  'method': 'selenium',\n",
      "  'product_description': '7 day battery',\n",
      "  'product_name': 'Nokia 123',\n",
      "  'product_price': 24.99,\n",
      "  'timestamp': datetime.datetime(2025, 6, 5, 0, 32, 47, 599204)},\n",
      " {'group_name': 'GRUPO-X',\n",
      "  'method': 'selenium',\n",
      "  'product_description': '3.2\" screen',\n",
      "  'product_name': 'LG Optimus',\n",
      "  'product_price': 57.99,\n",
      "  'timestamp': datetime.datetime(2025, 6, 5, 0, 32, 48, 802494)}]\n",
      "[{'group_name': 'GRUPO-X',\n",
      "  'method': 'selenium',\n",
      "  'product_description': '7 day battery',\n",
      "  'product_name': 'Nokia 123',\n",
      "  'product_price': 24.99,\n",
      "  'timestamp': datetime.datetime(2025, 6, 5, 0, 32, 47, 599204)},\n",
      " {'group_name': 'GRUPO-X',\n",
      "  'method': 'selenium',\n",
      "  'product_description': '3.2\" screen',\n",
      "  'product_name': 'LG Optimus',\n",
      "  'product_price': 57.99,\n",
      "  'timestamp': datetime.datetime(2025, 6, 5, 0, 32, 48, 802494)},\n",
      " {'group_name': 'GRUPO-X',\n",
      "  'method': 'selenium',\n",
      "  'product_description': '5 mpx. Android 5.0',\n",
      "  'product_name': 'Samsung Galaxy',\n",
      "  'product_price': 93.99,\n",
      "  'timestamp': datetime.datetime(2025, 6, 5, 0, 32, 50, 35020)}]\n",
      "[{'group_name': 'GRUPO-X',\n",
      "  'method': 'selenium',\n",
      "  'product_description': '7 day battery',\n",
      "  'product_name': 'Nokia 123',\n",
      "  'product_price': 24.99,\n",
      "  'timestamp': datetime.datetime(2025, 6, 5, 0, 32, 47, 599204)},\n",
      " {'group_name': 'GRUPO-X',\n",
      "  'method': 'selenium',\n",
      "  'product_description': '3.2\" screen',\n",
      "  'product_name': 'LG Optimus',\n",
      "  'product_price': 57.99,\n",
      "  'timestamp': datetime.datetime(2025, 6, 5, 0, 32, 48, 802494)},\n",
      " {'group_name': 'GRUPO-X',\n",
      "  'method': 'selenium',\n",
      "  'product_description': '5 mpx. Android 5.0',\n",
      "  'product_name': 'Samsung Galaxy',\n",
      "  'product_price': 93.99,\n",
      "  'timestamp': datetime.datetime(2025, 6, 5, 0, 32, 50, 35020)},\n",
      " {'group_name': 'GRUPO-X',\n",
      "  'method': 'selenium',\n",
      "  'product_description': 'Andoid, Jolla dualboot',\n",
      "  'product_name': 'Nokia X',\n",
      "  'product_price': 109.99,\n",
      "  'timestamp': datetime.datetime(2025, 6, 5, 0, 32, 51, 262750)}]\n",
      "[{'group_name': 'GRUPO-X',\n",
      "  'method': 'selenium',\n",
      "  'product_description': '7 day battery',\n",
      "  'product_name': 'Nokia 123',\n",
      "  'product_price': 24.99,\n",
      "  'timestamp': datetime.datetime(2025, 6, 5, 0, 32, 47, 599204)},\n",
      " {'group_name': 'GRUPO-X',\n",
      "  'method': 'selenium',\n",
      "  'product_description': '3.2\" screen',\n",
      "  'product_name': 'LG Optimus',\n",
      "  'product_price': 57.99,\n",
      "  'timestamp': datetime.datetime(2025, 6, 5, 0, 32, 48, 802494)},\n",
      " {'group_name': 'GRUPO-X',\n",
      "  'method': 'selenium',\n",
      "  'product_description': '5 mpx. Android 5.0',\n",
      "  'product_name': 'Samsung Galaxy',\n",
      "  'product_price': 93.99,\n",
      "  'timestamp': datetime.datetime(2025, 6, 5, 0, 32, 50, 35020)},\n",
      " {'group_name': 'GRUPO-X',\n",
      "  'method': 'selenium',\n",
      "  'product_description': 'Andoid, Jolla dualboot',\n",
      "  'product_name': 'Nokia X',\n",
      "  'product_price': 109.99,\n",
      "  'timestamp': datetime.datetime(2025, 6, 5, 0, 32, 51, 262750)},\n",
      " {'group_name': 'GRUPO-X',\n",
      "  'method': 'selenium',\n",
      "  'product_description': 'GPS, waterproof',\n",
      "  'product_name': 'Sony Xperia',\n",
      "  'product_price': 118.99,\n",
      "  'timestamp': datetime.datetime(2025, 6, 5, 0, 32, 52, 500069)}]\n",
      "[{'group_name': 'GRUPO-X',\n",
      "  'method': 'selenium',\n",
      "  'product_description': '7 day battery',\n",
      "  'product_name': 'Nokia 123',\n",
      "  'product_price': 24.99,\n",
      "  'timestamp': datetime.datetime(2025, 6, 5, 0, 32, 47, 599204)},\n",
      " {'group_name': 'GRUPO-X',\n",
      "  'method': 'selenium',\n",
      "  'product_description': '3.2\" screen',\n",
      "  'product_name': 'LG Optimus',\n",
      "  'product_price': 57.99,\n",
      "  'timestamp': datetime.datetime(2025, 6, 5, 0, 32, 48, 802494)},\n",
      " {'group_name': 'GRUPO-X',\n",
      "  'method': 'selenium',\n",
      "  'product_description': '5 mpx. Android 5.0',\n",
      "  'product_name': 'Samsung Galaxy',\n",
      "  'product_price': 93.99,\n",
      "  'timestamp': datetime.datetime(2025, 6, 5, 0, 32, 50, 35020)},\n",
      " {'group_name': 'GRUPO-X',\n",
      "  'method': 'selenium',\n",
      "  'product_description': 'Andoid, Jolla dualboot',\n",
      "  'product_name': 'Nokia X',\n",
      "  'product_price': 109.99,\n",
      "  'timestamp': datetime.datetime(2025, 6, 5, 0, 32, 51, 262750)},\n",
      " {'group_name': 'GRUPO-X',\n",
      "  'method': 'selenium',\n",
      "  'product_description': 'GPS, waterproof',\n",
      "  'product_name': 'Sony Xperia',\n",
      "  'product_price': 118.99,\n",
      "  'timestamp': datetime.datetime(2025, 6, 5, 0, 32, 52, 500069)},\n",
      " {'group_name': 'GRUPO-X',\n",
      "  'method': 'selenium',\n",
      "  'product_description': 'Sapphire glass',\n",
      "  'product_name': 'Ubuntu Edge',\n",
      "  'product_price': 499.99,\n",
      "  'timestamp': datetime.datetime(2025, 6, 5, 0, 32, 53, 843857)}]\n",
      "[{'group_name': 'GRUPO-X',\n",
      "  'method': 'selenium',\n",
      "  'product_description': '7 day battery',\n",
      "  'product_name': 'Nokia 123',\n",
      "  'product_price': 24.99,\n",
      "  'timestamp': datetime.datetime(2025, 6, 5, 0, 32, 47, 599204)},\n",
      " {'group_name': 'GRUPO-X',\n",
      "  'method': 'selenium',\n",
      "  'product_description': '3.2\" screen',\n",
      "  'product_name': 'LG Optimus',\n",
      "  'product_price': 57.99,\n",
      "  'timestamp': datetime.datetime(2025, 6, 5, 0, 32, 48, 802494)},\n",
      " {'group_name': 'GRUPO-X',\n",
      "  'method': 'selenium',\n",
      "  'product_description': '5 mpx. Android 5.0',\n",
      "  'product_name': 'Samsung Galaxy',\n",
      "  'product_price': 93.99,\n",
      "  'timestamp': datetime.datetime(2025, 6, 5, 0, 32, 50, 35020)},\n",
      " {'group_name': 'GRUPO-X',\n",
      "  'method': 'selenium',\n",
      "  'product_description': 'Andoid, Jolla dualboot',\n",
      "  'product_name': 'Nokia X',\n",
      "  'product_price': 109.99,\n",
      "  'timestamp': datetime.datetime(2025, 6, 5, 0, 32, 51, 262750)},\n",
      " {'group_name': 'GRUPO-X',\n",
      "  'method': 'selenium',\n",
      "  'product_description': 'GPS, waterproof',\n",
      "  'product_name': 'Sony Xperia',\n",
      "  'product_price': 118.99,\n",
      "  'timestamp': datetime.datetime(2025, 6, 5, 0, 32, 52, 500069)},\n",
      " {'group_name': 'GRUPO-X',\n",
      "  'method': 'selenium',\n",
      "  'product_description': 'Sapphire glass',\n",
      "  'product_name': 'Ubuntu Edge',\n",
      "  'product_price': 499.99,\n",
      "  'timestamp': datetime.datetime(2025, 6, 5, 0, 32, 53, 843857)},\n",
      " {'group_name': 'GRUPO-X',\n",
      "  'method': 'selenium',\n",
      "  'product_description': 'White',\n",
      "  'product_name': 'Iphone',\n",
      "  'product_price': 899.99,\n",
      "  'timestamp': datetime.datetime(2025, 6, 5, 0, 32, 55, 69249)}]\n",
      "[{'group_name': 'GRUPO-X',\n",
      "  'method': 'selenium',\n",
      "  'product_description': '7 day battery',\n",
      "  'product_name': 'Nokia 123',\n",
      "  'product_price': 24.99,\n",
      "  'timestamp': datetime.datetime(2025, 6, 5, 0, 32, 47, 599204)},\n",
      " {'group_name': 'GRUPO-X',\n",
      "  'method': 'selenium',\n",
      "  'product_description': '3.2\" screen',\n",
      "  'product_name': 'LG Optimus',\n",
      "  'product_price': 57.99,\n",
      "  'timestamp': datetime.datetime(2025, 6, 5, 0, 32, 48, 802494)},\n",
      " {'group_name': 'GRUPO-X',\n",
      "  'method': 'selenium',\n",
      "  'product_description': '5 mpx. Android 5.0',\n",
      "  'product_name': 'Samsung Galaxy',\n",
      "  'product_price': 93.99,\n",
      "  'timestamp': datetime.datetime(2025, 6, 5, 0, 32, 50, 35020)},\n",
      " {'group_name': 'GRUPO-X',\n",
      "  'method': 'selenium',\n",
      "  'product_description': 'Andoid, Jolla dualboot',\n",
      "  'product_name': 'Nokia X',\n",
      "  'product_price': 109.99,\n",
      "  'timestamp': datetime.datetime(2025, 6, 5, 0, 32, 51, 262750)},\n",
      " {'group_name': 'GRUPO-X',\n",
      "  'method': 'selenium',\n",
      "  'product_description': 'GPS, waterproof',\n",
      "  'product_name': 'Sony Xperia',\n",
      "  'product_price': 118.99,\n",
      "  'timestamp': datetime.datetime(2025, 6, 5, 0, 32, 52, 500069)},\n",
      " {'group_name': 'GRUPO-X',\n",
      "  'method': 'selenium',\n",
      "  'product_description': 'Sapphire glass',\n",
      "  'product_name': 'Ubuntu Edge',\n",
      "  'product_price': 499.99,\n",
      "  'timestamp': datetime.datetime(2025, 6, 5, 0, 32, 53, 843857)},\n",
      " {'group_name': 'GRUPO-X',\n",
      "  'method': 'selenium',\n",
      "  'product_description': 'White',\n",
      "  'product_name': 'Iphone',\n",
      "  'product_price': 899.99,\n",
      "  'timestamp': datetime.datetime(2025, 6, 5, 0, 32, 55, 69249)},\n",
      " {'group_name': 'GRUPO-X',\n",
      "  'method': 'selenium',\n",
      "  'product_description': 'Silver',\n",
      "  'product_name': 'Iphone',\n",
      "  'product_price': 899.99,\n",
      "  'timestamp': datetime.datetime(2025, 6, 5, 0, 32, 56, 325051)}]\n",
      "[{'group_name': 'GRUPO-X',\n",
      "  'method': 'selenium',\n",
      "  'product_description': '7 day battery',\n",
      "  'product_name': 'Nokia 123',\n",
      "  'product_price': 24.99,\n",
      "  'timestamp': datetime.datetime(2025, 6, 5, 0, 32, 47, 599204)},\n",
      " {'group_name': 'GRUPO-X',\n",
      "  'method': 'selenium',\n",
      "  'product_description': '3.2\" screen',\n",
      "  'product_name': 'LG Optimus',\n",
      "  'product_price': 57.99,\n",
      "  'timestamp': datetime.datetime(2025, 6, 5, 0, 32, 48, 802494)},\n",
      " {'group_name': 'GRUPO-X',\n",
      "  'method': 'selenium',\n",
      "  'product_description': '5 mpx. Android 5.0',\n",
      "  'product_name': 'Samsung Galaxy',\n",
      "  'product_price': 93.99,\n",
      "  'timestamp': datetime.datetime(2025, 6, 5, 0, 32, 50, 35020)},\n",
      " {'group_name': 'GRUPO-X',\n",
      "  'method': 'selenium',\n",
      "  'product_description': 'Andoid, Jolla dualboot',\n",
      "  'product_name': 'Nokia X',\n",
      "  'product_price': 109.99,\n",
      "  'timestamp': datetime.datetime(2025, 6, 5, 0, 32, 51, 262750)},\n",
      " {'group_name': 'GRUPO-X',\n",
      "  'method': 'selenium',\n",
      "  'product_description': 'GPS, waterproof',\n",
      "  'product_name': 'Sony Xperia',\n",
      "  'product_price': 118.99,\n",
      "  'timestamp': datetime.datetime(2025, 6, 5, 0, 32, 52, 500069)},\n",
      " {'group_name': 'GRUPO-X',\n",
      "  'method': 'selenium',\n",
      "  'product_description': 'Sapphire glass',\n",
      "  'product_name': 'Ubuntu Edge',\n",
      "  'product_price': 499.99,\n",
      "  'timestamp': datetime.datetime(2025, 6, 5, 0, 32, 53, 843857)},\n",
      " {'group_name': 'GRUPO-X',\n",
      "  'method': 'selenium',\n",
      "  'product_description': 'White',\n",
      "  'product_name': 'Iphone',\n",
      "  'product_price': 899.99,\n",
      "  'timestamp': datetime.datetime(2025, 6, 5, 0, 32, 55, 69249)},\n",
      " {'group_name': 'GRUPO-X',\n",
      "  'method': 'selenium',\n",
      "  'product_description': 'Silver',\n",
      "  'product_name': 'Iphone',\n",
      "  'product_price': 899.99,\n",
      "  'timestamp': datetime.datetime(2025, 6, 5, 0, 32, 56, 325051)},\n",
      " {'group_name': 'GRUPO-X',\n",
      "  'method': 'selenium',\n",
      "  'product_description': 'Black',\n",
      "  'product_name': 'Iphone',\n",
      "  'product_price': 899.99,\n",
      "  'timestamp': datetime.datetime(2025, 6, 5, 0, 32, 57, 723879)}]\n"
     ]
    }
   ],
   "source": [
    "# Vamos a la pagina de telefonos touch\n",
    "driver.get('https://webscraper.io/test-sites/e-commerce/allinone/phones/touch')\n",
    "sleep(3)\n",
    "\n",
    "results = []\n",
    "\n",
    "# Iteramos por cada producto y lo guardamos en results\n",
    "all_rows = driver.find_elements(by=By.CLASS_NAME, value=\"row\")\n",
    "row_with_items = all_rows[2]\n",
    "tag_a_elements = row_with_items.find_elements(by=By.TAG_NAME, value=\"a\")\n",
    "urls = [element.get_attribute('href') for element in tag_a_elements]\n",
    "\n",
    "for url in urls:\n",
    "    result = scrap_product_page(driver=driver, url=url)\n",
    "    results.append(result)\n",
    "    pprint(results)\n",
    "    sleep(1)\n"
   ]
  },
  {
   "cell_type": "markdown",
   "metadata": {},
   "source": [
    "Finalmente lo guardamos en una base de datos"
   ]
  },
  {
   "cell_type": "code",
   "execution_count": 13,
   "metadata": {},
   "outputs": [
    {
     "data": {
      "text/plain": [
       "True"
      ]
     },
     "execution_count": 13,
     "metadata": {},
     "output_type": "execute_result"
    }
   ],
   "source": [
    "# Load .env file\n",
    "load_dotenv()"
   ]
  },
  {
   "cell_type": "code",
   "execution_count": 14,
   "metadata": {},
   "outputs": [],
   "source": [
    "# Connect to MongoDB\n",
    "client = MongoClient(environ[\"DB_CONNECTION_STRING\"])\n",
    "\n",
    "# Specify the database and collection\n",
    "db = client[\"AYPMD\"]\n",
    "collection = db[\"SCRAPING_TEST\"]"
   ]
  },
  {
   "cell_type": "code",
   "execution_count": 15,
   "metadata": {},
   "outputs": [
    {
     "data": {
      "text/plain": [
       "InsertManyResult([ObjectId('68411dfa2cb2d0b9548f82e1'), ObjectId('68411dfa2cb2d0b9548f82e2'), ObjectId('68411dfa2cb2d0b9548f82e3'), ObjectId('68411dfa2cb2d0b9548f82e4'), ObjectId('68411dfa2cb2d0b9548f82e5'), ObjectId('68411dfa2cb2d0b9548f82e6'), ObjectId('68411dfa2cb2d0b9548f82e7'), ObjectId('68411dfa2cb2d0b9548f82e8'), ObjectId('68411dfa2cb2d0b9548f82e9')], acknowledged=True)"
      ]
     },
     "execution_count": 15,
     "metadata": {},
     "output_type": "execute_result"
    }
   ],
   "source": [
    "collection.insert_many(results)"
   ]
  },
  {
   "cell_type": "code",
   "execution_count": 16,
   "metadata": {},
   "outputs": [
    {
     "data": {
      "text/plain": [
       "[{'_id': ObjectId('68411d909bfe6368c214f63a'),\n",
       "  'group_name': 'GRUPO-X',\n",
       "  'method': 'requests',\n",
       "  'product_name': 'Nokia 123',\n",
       "  'product_description': '7 day battery',\n",
       "  'product_price': 24.99,\n",
       "  'timestamp': datetime.datetime(2025, 6, 5, 0, 31, 2, 373000)},\n",
       " {'_id': ObjectId('68411d909bfe6368c214f63b'),\n",
       "  'group_name': 'GRUPO-X',\n",
       "  'method': 'requests',\n",
       "  'product_name': 'LG Optimus',\n",
       "  'product_description': '3.2\" screen',\n",
       "  'product_price': 57.99,\n",
       "  'timestamp': datetime.datetime(2025, 6, 5, 0, 31, 3, 557000)},\n",
       " {'_id': ObjectId('68411d909bfe6368c214f63c'),\n",
       "  'group_name': 'GRUPO-X',\n",
       "  'method': 'requests',\n",
       "  'product_name': 'Samsung Galaxy',\n",
       "  'product_description': '5 mpx. Android 5.0',\n",
       "  'product_price': 93.99,\n",
       "  'timestamp': datetime.datetime(2025, 6, 5, 0, 31, 4, 646000)}]"
      ]
     },
     "execution_count": 16,
     "metadata": {},
     "output_type": "execute_result"
    }
   ],
   "source": [
    "# Define the query (bring all items of my group)\n",
    "query = {}\n",
    "\n",
    "# Execute the query and retrieve 3 documents\n",
    "query_results = collection.find(query).limit(3)\n",
    "list(query_results)"
   ]
  },
  {
   "cell_type": "code",
   "execution_count": 17,
   "metadata": {},
   "outputs": [],
   "source": [
    "driver.close()\n",
    "client.close()"
   ]
  }
 ],
 "metadata": {
  "kernelspec": {
   "display_name": "aypmd",
   "language": "python",
   "name": "python3"
  },
  "language_info": {
   "codemirror_mode": {
    "name": "ipython",
    "version": 3
   },
   "file_extension": ".py",
   "mimetype": "text/x-python",
   "name": "python",
   "nbconvert_exporter": "python",
   "pygments_lexer": "ipython3",
   "version": "3.13.4"
  }
 },
 "nbformat": 4,
 "nbformat_minor": 2
}
