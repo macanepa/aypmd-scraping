{
 "cells": [
  {
   "cell_type": "code",
   "execution_count": null,
   "metadata": {},
   "outputs": [],
   "source": [
    "!pip install -r requirements.txt"
   ]
  },
  {
   "cell_type": "code",
   "execution_count": 2,
   "metadata": {},
   "outputs": [],
   "source": [
    "from os import environ\n",
    "from dotenv import load_dotenv\n",
    "from pprint import pprint\n",
    "from time import sleep\n",
    "from pymongo import MongoClient\n",
    "\n",
    "# Selenium Web Scraping\n",
    "from selenium import webdriver\n",
    "from selenium.webdriver.chrome.service import Service as ChromeService\n",
    "from selenium.webdriver.chrome.options import Options\n",
    "from selenium.webdriver.common.by import By\n",
    "from webdriver_manager.chrome import ChromeDriverManager"
   ]
  },
  {
   "cell_type": "markdown",
   "metadata": {},
   "source": [
    "# Scraping Simulando Interacción Humana\n",
    "\n",
    "Tecnologías:  \n",
    "- `Selenium` (Python / Javascript)\n",
    "- `Puppeteer` (Javacript)\n",
    "\n",
    "\n",
    "Estas librerías emplean un `Driver` del navegador que queremos utilizar para la automatización.\n",
    "\n",
    "En este taller, utilizaremos `Google Chrome`, por lo tanto debemos instalar el driver adecuado.\n",
    "\n",
    "Afortunadamente existen librerías como `Webdriver Manager` que nos permiten instalar el driver un solo comando en Python.\n",
    "\n",
    "Vamos a crear una función que nos permita instanciar el driver para nuestra automatización. `Headless` es una opción que permite ocular el navegador. Se utiliza bastante en ambientes en `donde no hay interfaz gráfica`, como por ejemplo una máquina en `EC2` o un `Función Lambda`\n"
   ]
  },
  {
   "cell_type": "code",
   "execution_count": 3,
   "metadata": {},
   "outputs": [],
   "source": [
    "def get_webdriver(headless: bool = False) -> webdriver:\n",
    "    options = Options()\n",
    "\n",
    "    if headless:\n",
    "        options.add_argument(\"--headless\")\n",
    "        options.add_argument(\"--window-size=1920,1080\")\n",
    "\n",
    "    return webdriver.Chrome(service=ChromeService(ChromeDriverManager().install()), options=options)"
   ]
  },
  {
   "cell_type": "code",
   "execution_count": 4,
   "metadata": {},
   "outputs": [
    {
     "name": "stderr",
     "output_type": "stream",
     "text": [
      "/bin/sh: line 1: google-chrome: command not found\n",
      "/bin/sh: line 1: google-chrome: command not found\n"
     ]
    }
   ],
   "source": [
    "driver = get_webdriver()"
   ]
  },
  {
   "cell_type": "code",
   "execution_count": 5,
   "metadata": {},
   "outputs": [],
   "source": [
    "driver.get('https://webscraper.io/test-sites/e-commerce/allinone')"
   ]
  },
  {
   "cell_type": "code",
   "execution_count": 6,
   "metadata": {},
   "outputs": [
    {
     "name": "stdout",
     "output_type": "stream",
     "text": [
      "['Dell Inspiron...', 'Acer Predator...', 'Asus VivoBook...']\n"
     ]
    }
   ],
   "source": [
    "all_rows = driver.find_elements(by=By.CLASS_NAME, value=\"row\")\n",
    "row_with_items = all_rows[2]\n",
    "urls = row_with_items.find_elements(by=By.TAG_NAME, value=\"a\")\n",
    "\n",
    "print([element.text for element in urls])"
   ]
  },
  {
   "cell_type": "code",
   "execution_count": 7,
   "metadata": {},
   "outputs": [],
   "source": [
    "first_url = urls[0].get_attribute('href')\n",
    "driver.get(first_url)"
   ]
  },
  {
   "cell_type": "code",
   "execution_count": 8,
   "metadata": {},
   "outputs": [
    {
     "data": {
      "text/plain": [
       "{'product_name': 'Dell Inspiron 15 (7567) Black',\n",
       " 'product_description': 'Dell Inspiron 15 (7567) Black, 15.6\" FHD, Core i7-7700HQ, 8GB, 1TB, GeForce GTX 1050 Ti 4GB, Linux + Windows 10 Home',\n",
       " 'product_price': '$1144.2'}"
      ]
     },
     "execution_count": 8,
     "metadata": {},
     "output_type": "execute_result"
    }
   ],
   "source": [
    "record = {}\n",
    "\n",
    "record[\"product_name\"] = driver.find_element(by=By.CLASS_NAME, value=\"title\").text\n",
    "record[\"product_description\"] = driver.find_element(by=By.CLASS_NAME, value=\"description\").text\n",
    "record[\"product_price\"] = driver.find_element(by=By.CLASS_NAME, value=\"price\").text\n",
    "\n",
    "record"
   ]
  },
  {
   "cell_type": "markdown",
   "metadata": {},
   "source": [
    "Podemos crear un funcion que haga scraping de la pagina de un producto.\n",
    "Pasamos el `driver` y el `url` de la pagina del producto"
   ]
  },
  {
   "cell_type": "code",
   "execution_count": 9,
   "metadata": {},
   "outputs": [],
   "source": [
    "GRUPO = \"X\"\n",
    "def scrap_product_page(driver: webdriver, url: str):\n",
    "    driver.get(url)\n",
    "    record = {}\n",
    "\n",
    "    record[\"group_name\"] = f\"GRUPO-{GRUPO}\"\n",
    "    record[\"product_name\"] = driver.find_element(by=By.CLASS_NAME, value=\"title\").text\n",
    "    record[\"product_description\"] = driver.find_element(by=By.CLASS_NAME, value=\"description\").text\n",
    "    record[\"product_price\"] = driver.find_element(by=By.CLASS_NAME, value=\"price\").text\n",
    "\n",
    "    return record"
   ]
  },
  {
   "cell_type": "markdown",
   "metadata": {},
   "source": [
    "Ahora itentemos scrapear todos los productos de telefonos/touch"
   ]
  },
  {
   "cell_type": "code",
   "execution_count": 10,
   "metadata": {},
   "outputs": [
    {
     "name": "stdout",
     "output_type": "stream",
     "text": [
      "[{'group_name': 'GRUPO-X',\n",
      "  'product_description': '7 day battery',\n",
      "  'product_name': 'Nokia 123',\n",
      "  'product_price': '$24.99'}]\n",
      "[{'group_name': 'GRUPO-X',\n",
      "  'product_description': '7 day battery',\n",
      "  'product_name': 'Nokia 123',\n",
      "  'product_price': '$24.99'},\n",
      " {'group_name': 'GRUPO-X',\n",
      "  'product_description': '3.2\" screen',\n",
      "  'product_name': 'LG Optimus',\n",
      "  'product_price': '$57.99'}]\n",
      "[{'group_name': 'GRUPO-X',\n",
      "  'product_description': '7 day battery',\n",
      "  'product_name': 'Nokia 123',\n",
      "  'product_price': '$24.99'},\n",
      " {'group_name': 'GRUPO-X',\n",
      "  'product_description': '3.2\" screen',\n",
      "  'product_name': 'LG Optimus',\n",
      "  'product_price': '$57.99'},\n",
      " {'group_name': 'GRUPO-X',\n",
      "  'product_description': '5 mpx. Android 5.0',\n",
      "  'product_name': 'Samsung Galaxy',\n",
      "  'product_price': '$93.99'}]\n",
      "[{'group_name': 'GRUPO-X',\n",
      "  'product_description': '7 day battery',\n",
      "  'product_name': 'Nokia 123',\n",
      "  'product_price': '$24.99'},\n",
      " {'group_name': 'GRUPO-X',\n",
      "  'product_description': '3.2\" screen',\n",
      "  'product_name': 'LG Optimus',\n",
      "  'product_price': '$57.99'},\n",
      " {'group_name': 'GRUPO-X',\n",
      "  'product_description': '5 mpx. Android 5.0',\n",
      "  'product_name': 'Samsung Galaxy',\n",
      "  'product_price': '$93.99'},\n",
      " {'group_name': 'GRUPO-X',\n",
      "  'product_description': 'Andoid, Jolla dualboot',\n",
      "  'product_name': 'Nokia X',\n",
      "  'product_price': '$109.99'}]\n",
      "[{'group_name': 'GRUPO-X',\n",
      "  'product_description': '7 day battery',\n",
      "  'product_name': 'Nokia 123',\n",
      "  'product_price': '$24.99'},\n",
      " {'group_name': 'GRUPO-X',\n",
      "  'product_description': '3.2\" screen',\n",
      "  'product_name': 'LG Optimus',\n",
      "  'product_price': '$57.99'},\n",
      " {'group_name': 'GRUPO-X',\n",
      "  'product_description': '5 mpx. Android 5.0',\n",
      "  'product_name': 'Samsung Galaxy',\n",
      "  'product_price': '$93.99'},\n",
      " {'group_name': 'GRUPO-X',\n",
      "  'product_description': 'Andoid, Jolla dualboot',\n",
      "  'product_name': 'Nokia X',\n",
      "  'product_price': '$109.99'},\n",
      " {'group_name': 'GRUPO-X',\n",
      "  'product_description': 'GPS, waterproof',\n",
      "  'product_name': 'Sony Xperia',\n",
      "  'product_price': '$118.99'}]\n",
      "[{'group_name': 'GRUPO-X',\n",
      "  'product_description': '7 day battery',\n",
      "  'product_name': 'Nokia 123',\n",
      "  'product_price': '$24.99'},\n",
      " {'group_name': 'GRUPO-X',\n",
      "  'product_description': '3.2\" screen',\n",
      "  'product_name': 'LG Optimus',\n",
      "  'product_price': '$57.99'},\n",
      " {'group_name': 'GRUPO-X',\n",
      "  'product_description': '5 mpx. Android 5.0',\n",
      "  'product_name': 'Samsung Galaxy',\n",
      "  'product_price': '$93.99'},\n",
      " {'group_name': 'GRUPO-X',\n",
      "  'product_description': 'Andoid, Jolla dualboot',\n",
      "  'product_name': 'Nokia X',\n",
      "  'product_price': '$109.99'},\n",
      " {'group_name': 'GRUPO-X',\n",
      "  'product_description': 'GPS, waterproof',\n",
      "  'product_name': 'Sony Xperia',\n",
      "  'product_price': '$118.99'},\n",
      " {'group_name': 'GRUPO-X',\n",
      "  'product_description': 'Sapphire glass',\n",
      "  'product_name': 'Ubuntu Edge',\n",
      "  'product_price': '$499.99'}]\n",
      "[{'group_name': 'GRUPO-X',\n",
      "  'product_description': '7 day battery',\n",
      "  'product_name': 'Nokia 123',\n",
      "  'product_price': '$24.99'},\n",
      " {'group_name': 'GRUPO-X',\n",
      "  'product_description': '3.2\" screen',\n",
      "  'product_name': 'LG Optimus',\n",
      "  'product_price': '$57.99'},\n",
      " {'group_name': 'GRUPO-X',\n",
      "  'product_description': '5 mpx. Android 5.0',\n",
      "  'product_name': 'Samsung Galaxy',\n",
      "  'product_price': '$93.99'},\n",
      " {'group_name': 'GRUPO-X',\n",
      "  'product_description': 'Andoid, Jolla dualboot',\n",
      "  'product_name': 'Nokia X',\n",
      "  'product_price': '$109.99'},\n",
      " {'group_name': 'GRUPO-X',\n",
      "  'product_description': 'GPS, waterproof',\n",
      "  'product_name': 'Sony Xperia',\n",
      "  'product_price': '$118.99'},\n",
      " {'group_name': 'GRUPO-X',\n",
      "  'product_description': 'Sapphire glass',\n",
      "  'product_name': 'Ubuntu Edge',\n",
      "  'product_price': '$499.99'},\n",
      " {'group_name': 'GRUPO-X',\n",
      "  'product_description': 'White',\n",
      "  'product_name': 'Iphone',\n",
      "  'product_price': '$899.99'}]\n",
      "[{'group_name': 'GRUPO-X',\n",
      "  'product_description': '7 day battery',\n",
      "  'product_name': 'Nokia 123',\n",
      "  'product_price': '$24.99'},\n",
      " {'group_name': 'GRUPO-X',\n",
      "  'product_description': '3.2\" screen',\n",
      "  'product_name': 'LG Optimus',\n",
      "  'product_price': '$57.99'},\n",
      " {'group_name': 'GRUPO-X',\n",
      "  'product_description': '5 mpx. Android 5.0',\n",
      "  'product_name': 'Samsung Galaxy',\n",
      "  'product_price': '$93.99'},\n",
      " {'group_name': 'GRUPO-X',\n",
      "  'product_description': 'Andoid, Jolla dualboot',\n",
      "  'product_name': 'Nokia X',\n",
      "  'product_price': '$109.99'},\n",
      " {'group_name': 'GRUPO-X',\n",
      "  'product_description': 'GPS, waterproof',\n",
      "  'product_name': 'Sony Xperia',\n",
      "  'product_price': '$118.99'},\n",
      " {'group_name': 'GRUPO-X',\n",
      "  'product_description': 'Sapphire glass',\n",
      "  'product_name': 'Ubuntu Edge',\n",
      "  'product_price': '$499.99'},\n",
      " {'group_name': 'GRUPO-X',\n",
      "  'product_description': 'White',\n",
      "  'product_name': 'Iphone',\n",
      "  'product_price': '$899.99'},\n",
      " {'group_name': 'GRUPO-X',\n",
      "  'product_description': 'Silver',\n",
      "  'product_name': 'Iphone',\n",
      "  'product_price': '$899.99'}]\n",
      "[{'group_name': 'GRUPO-X',\n",
      "  'product_description': '7 day battery',\n",
      "  'product_name': 'Nokia 123',\n",
      "  'product_price': '$24.99'},\n",
      " {'group_name': 'GRUPO-X',\n",
      "  'product_description': '3.2\" screen',\n",
      "  'product_name': 'LG Optimus',\n",
      "  'product_price': '$57.99'},\n",
      " {'group_name': 'GRUPO-X',\n",
      "  'product_description': '5 mpx. Android 5.0',\n",
      "  'product_name': 'Samsung Galaxy',\n",
      "  'product_price': '$93.99'},\n",
      " {'group_name': 'GRUPO-X',\n",
      "  'product_description': 'Andoid, Jolla dualboot',\n",
      "  'product_name': 'Nokia X',\n",
      "  'product_price': '$109.99'},\n",
      " {'group_name': 'GRUPO-X',\n",
      "  'product_description': 'GPS, waterproof',\n",
      "  'product_name': 'Sony Xperia',\n",
      "  'product_price': '$118.99'},\n",
      " {'group_name': 'GRUPO-X',\n",
      "  'product_description': 'Sapphire glass',\n",
      "  'product_name': 'Ubuntu Edge',\n",
      "  'product_price': '$499.99'},\n",
      " {'group_name': 'GRUPO-X',\n",
      "  'product_description': 'White',\n",
      "  'product_name': 'Iphone',\n",
      "  'product_price': '$899.99'},\n",
      " {'group_name': 'GRUPO-X',\n",
      "  'product_description': 'Silver',\n",
      "  'product_name': 'Iphone',\n",
      "  'product_price': '$899.99'},\n",
      " {'group_name': 'GRUPO-X',\n",
      "  'product_description': 'Black',\n",
      "  'product_name': 'Iphone',\n",
      "  'product_price': '$899.99'}]\n"
     ]
    }
   ],
   "source": [
    "# Vamos a la pagina de telefonos touch\n",
    "driver.get('https://webscraper.io/test-sites/e-commerce/allinone/phones/touch')\n",
    "sleep(3)\n",
    "\n",
    "results = []\n",
    "\n",
    "# Iteramos por cada producto y lo guardamos en results\n",
    "all_rows = driver.find_elements(by=By.CLASS_NAME, value=\"row\")\n",
    "row_with_items = all_rows[2]\n",
    "tag_a_elements = row_with_items.find_elements(by=By.TAG_NAME, value=\"a\")\n",
    "urls = [element.get_attribute('href') for element in tag_a_elements]\n",
    "\n",
    "for url in urls:\n",
    "    result = scrap_product_page(driver=driver, url=url)\n",
    "    results.append(result)\n",
    "    pprint(results)\n",
    "    sleep(1)\n"
   ]
  },
  {
   "cell_type": "markdown",
   "metadata": {},
   "source": [
    "Finalmente lo guardamos en una base de datos"
   ]
  },
  {
   "cell_type": "code",
   "execution_count": 11,
   "metadata": {},
   "outputs": [
    {
     "data": {
      "text/plain": [
       "True"
      ]
     },
     "execution_count": 11,
     "metadata": {},
     "output_type": "execute_result"
    }
   ],
   "source": [
    "# Load .env file\n",
    "load_dotenv()"
   ]
  },
  {
   "cell_type": "code",
   "execution_count": 12,
   "metadata": {},
   "outputs": [],
   "source": [
    "# Connect to MongoDB\n",
    "client = MongoClient(environ[\"DB_CONNECTION_STRING\"])\n",
    "\n",
    "# Specify the database and collection\n",
    "db = client[\"AYPMD\"]\n",
    "collection = db[\"SCRAPING_TEST\"]"
   ]
  },
  {
   "cell_type": "code",
   "execution_count": 13,
   "metadata": {},
   "outputs": [
    {
     "data": {
      "text/plain": [
       "InsertManyResult([ObjectId('664e75316b6b09b550979e69'), ObjectId('664e75316b6b09b550979e6a'), ObjectId('664e75316b6b09b550979e6b'), ObjectId('664e75316b6b09b550979e6c'), ObjectId('664e75316b6b09b550979e6d'), ObjectId('664e75316b6b09b550979e6e'), ObjectId('664e75316b6b09b550979e6f'), ObjectId('664e75316b6b09b550979e70'), ObjectId('664e75316b6b09b550979e71')], acknowledged=True)"
      ]
     },
     "execution_count": 13,
     "metadata": {},
     "output_type": "execute_result"
    }
   ],
   "source": [
    "collection.insert_many(results)"
   ]
  },
  {
   "cell_type": "code",
   "execution_count": 14,
   "metadata": {},
   "outputs": [
    {
     "data": {
      "text/plain": [
       "[{'_id': ObjectId('664e5fe6b3469a3526b134cb'),\n",
       "  'product_name': 'Asus VivoBook X441NA-GA190',\n",
       "  'product_description': 'Asus VivoBook X441NA-GA190 Chocolate Black, 14\", Celeron N3450, 4GB, 128GB SSD, Endless OS, ENG kbd',\n",
       "  'product_price': '$295.99'},\n",
       " {'_id': ObjectId('664e6240ad2d7c27c743f966'),\n",
       "  'group_name': 'GRUPO-X',\n",
       "  'product_name': 'Nokia 123',\n",
       "  'product_description': '7 day battery',\n",
       "  'product_price': '$24.99'},\n",
       " {'_id': ObjectId('664e6240ad2d7c27c743f967'),\n",
       "  'group_name': 'GRUPO-X',\n",
       "  'product_name': 'LG Optimus',\n",
       "  'product_description': '3.2\" screen',\n",
       "  'product_price': '$57.99'}]"
      ]
     },
     "execution_count": 14,
     "metadata": {},
     "output_type": "execute_result"
    }
   ],
   "source": [
    "# Define the query (bring all items of my group)\n",
    "query = {}\n",
    "\n",
    "# Execute the query and retrieve 3 documents\n",
    "query_results = collection.find(query).limit(3)\n",
    "list(query_results)"
   ]
  },
  {
   "cell_type": "code",
   "execution_count": 15,
   "metadata": {},
   "outputs": [],
   "source": [
    "driver.close()\n",
    "client.close()"
   ]
  }
 ],
 "metadata": {
  "kernelspec": {
   "display_name": "Python 3",
   "language": "python",
   "name": "python3"
  },
  "language_info": {
   "codemirror_mode": {
    "name": "ipython",
    "version": 3
   },
   "file_extension": ".py",
   "mimetype": "text/x-python",
   "name": "python",
   "nbconvert_exporter": "python",
   "pygments_lexer": "ipython3",
   "version": "3.11.9"
  }
 },
 "nbformat": 4,
 "nbformat_minor": 2
}
