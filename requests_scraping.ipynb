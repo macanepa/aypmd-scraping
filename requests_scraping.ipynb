{
 "cells": [
  {
   "cell_type": "code",
   "execution_count": null,
   "metadata": {},
   "outputs": [],
   "source": [
    "!pip install -r requirements.txt"
   ]
  },
  {
   "cell_type": "code",
   "execution_count": 2,
   "metadata": {},
   "outputs": [],
   "source": [
    "from os import environ\n",
    "from dotenv import load_dotenv\n",
    "from pprint import pprint\n",
    "from time import sleep\n",
    "from pymongo import MongoClient\n",
    "\n",
    "# Requests Web Scraping\n",
    "import requests\n",
    "from bs4 import BeautifulSoup"
   ]
  },
  {
   "cell_type": "markdown",
   "metadata": {},
   "source": [
    "# Scraping Interactuando con Peticiones HTTP\n",
    "\n",
    "Tecnologías:  \n",
    "- `Requests`: simula peticiones que hace un navegador\n",
    "- `BeautifulSoup`: parser de HTML  \n",
    "\n",
    "Estas librerías nos permiten realizar scraping de manera más directa y eficiente en comparación con Selenium, ya que no requieren la automatización de un navegador completo. Solo replicamos las peticiones HTTP que hace el navegador.\n",
    "\n",
    "Para ver las peticiones que queremos replicar, podemso monitorear la pestaña de `Network` del navegador."
   ]
  },
  {
   "cell_type": "markdown",
   "metadata": {},
   "source": [
    "Si bien, en `requests` podemos hacer un llamado nuevo haciendo simplemente\n",
    "\n",
    "```python\n",
    "requests.get(url)\n",
    "```\n",
    "\n",
    "No es recomendable si vamos a hacer multiples llamado en el sitio y queremos consistencia entre los llamados.\n",
    "\n",
    "\n",
    "Es preferible hacer uso de una sesión y luego hacer un get con esa sesión\n",
    "\n",
    "```python\n",
    "session = requests.Session()\n",
    "```"
   ]
  },
  {
   "cell_type": "code",
   "execution_count": 3,
   "metadata": {},
   "outputs": [
    {
     "data": {
      "text/plain": [
       "200"
      ]
     },
     "execution_count": 3,
     "metadata": {},
     "output_type": "execute_result"
    }
   ],
   "source": [
    "session = requests.Session()\n",
    "response = session.get('https://webscraper.io/test-sites/e-commerce/allinone')\n",
    "response.status_code"
   ]
  },
  {
   "cell_type": "markdown",
   "metadata": {},
   "source": [
    "Luego queremos parsear el la respuesta por `BeautifulSoup`, ya que esta librería nos permite interactuar facilmente con HTML"
   ]
  },
  {
   "cell_type": "code",
   "execution_count": 4,
   "metadata": {},
   "outputs": [],
   "source": [
    "html_content = response.text\n",
    "soup = BeautifulSoup(html_content, 'html.parser')"
   ]
  },
  {
   "cell_type": "code",
   "execution_count": 5,
   "metadata": {},
   "outputs": [
    {
     "name": "stdout",
     "output_type": "stream",
     "text": [
      "['Acer Aspire A3...', 'MSI GP62M 7RDX...', 'Lenovo V510 Bl...']\n"
     ]
    }
   ],
   "source": [
    "# Encontramos todos los elementos con la clase \"row\"\n",
    "all_rows = soup.find_all(class_='row')\n",
    "\n",
    "# Seleccionamos la tercera fila (índice 2)\n",
    "row_with_items = all_rows[2]\n",
    "\n",
    "# Encontramos todos los elementos <a> dentro de esa fila\n",
    "urls = row_with_items.find_all('a')\n",
    "\n",
    "# Imprimimos el texto de cada elemento <a>\n",
    "print([element.text for element in urls])"
   ]
  },
  {
   "cell_type": "code",
   "execution_count": 6,
   "metadata": {},
   "outputs": [
    {
     "data": {
      "text/plain": [
       "'https://webscraper.io/test-sites/e-commerce/allinone/product/67'"
      ]
     },
     "execution_count": 6,
     "metadata": {},
     "output_type": "execute_result"
    }
   ],
   "source": [
    "href= urls[0][\"href\"]\n",
    "url = f'https://webscraper.io{href}'\n",
    "url"
   ]
  },
  {
   "cell_type": "code",
   "execution_count": 7,
   "metadata": {},
   "outputs": [],
   "source": [
    "response = session.get(url)"
   ]
  },
  {
   "cell_type": "code",
   "execution_count": 8,
   "metadata": {},
   "outputs": [
    {
     "data": {
      "text/plain": [
       "b'<!DOCTYPE html>\\n<html lang=\"en\">\\n<head>\\n\\t<!-- Google Tag Manager -->\\n<script>(function (w, d, s, l, i) {\\n\\t\\tw[l] = w[l] || [];\\n\\t\\tw[l].push({\\n\\t\\t\\t\\'gtm.start\\':\\n\\t\\t\\t\\tnew Date().getTime(), event: \\'gtm.js\\'\\n\\t\\t});\\n\\t\\tvar f = d.getElementsByTagName(s)[0],\\n\\t\\t\\tj = d.createElement(s), dl = l != \\'dataLayer\\' ? \\'&l=\\' + l : \\'\\';\\n\\t\\tj.async = true;\\n\\t\\tj.src =\\n\\t\\t\\t\\'https://www.googletagmanager.com/gtm.js?id=\\' + i + dl;\\n\\t\\tf.parentNode.insertBefore(j, f);\\n\\t})(window, document, \\'script\\', \\'dataLayer\\', \\'GTM-NVFPDWB\\');</script>\\n<!-- End Google Tag Manager -->\\n\\t<title>Web Scraper - The #1 web scraping extension</title>\\n\\t<meta charset=\"utf-8\">\\n\\t<meta http-equiv=\"X-UA-Compatible\" content=\"IE=edge,chrome=1\">\\n\\n\\t<meta name=\"keywords\"\\n\\t\\t  content=\"web scraping,Web Scraper,Chrome extension,Crawling,Cross platform scraper\"/>\\n\\t<meta name=\"description\"\\n\\t\\t  content=\"The most popular web scraping extension. Start scraping in minutes. Automate your tasks with our Cloud Scraper. No software to download, no coding needed.\"/>\\n\\t<link rel=\"icon\" sizes=\"128x128\" href=\"/favicon.png\">\\n\\n\\t<meta name=\"viewport\" content=\"width=device-width, initial-scale=1.0\">\\n\\t\\n\\t<link rel=\"preconnect\" href=\"https://fonts.googleapis.com\">\\n\\t<link rel=\"preconnect\" href=\"https://fonts.gstatic.com\" crossorigin>\\n\\t<link href=\"https://fonts.googleapis.com/css2?family=Roboto:wght@400;500;600&display=swap\" rel=\"stylesheet\">\\n\\t<link href=\"https://fonts.googleapis.com/css2?family=Montserrat:wght@300;400;500;600;700;900&display=swap\" rel=\"stylesheet\">\\n\\n\\t<link rel=\"stylesheet\" href=\"/css/app.css?id=97c31409f52fbd42d14714a1939779f4\">\\n\\t<link rel=\"stylesheet\" href=\"/css/ws-icons.font.css?id=8f2c6b77e3c33bbc1183eeae2ae24269\">\\n\\n\\t<link rel=\"canonical\" href=\"https://webscraper.io/test-sites/e-commerce/allinone/product/67\">\\n\\t<link rel=\"apple-touch-icon\" href=\"/img/logo-icon.png\">\\n\\n\\t\\n\\t<script defer src=\"/js/app.js?id=772c86536a85d27b5594b4c169e027cc\"></script>\\n\\n\\t\\n</head>\\n<body>\\n<!-- Google Tag Manager (noscript) -->\\n<noscript>\\n\\t<iframe src=\"https://www.googletagmanager.com/ns.html?id=GTM-NVFPDWB\"\\n\\t        height=\"0\" width=\"0\" style=\"display:none;visibility:hidden\"></iframe>\\n</noscript>\\n<!-- End Google Tag Manager (noscript) -->\\n<header role=\"banner\" class=\"navbar fixed-top navbar-expand-lg navbar-dark navbar-static\">\\n\\t<div class=\"container\">\\n\\n\\t\\t<div class=\"navbar-header\">\\n\\n\\t\\t\\t<a data-bs-toggle=\"collapse-side\" data-bs-target=\".side-collapse\" data-bs-target-2=\".side-collapse-container\">\\n\\t\\t\\t\\t<button type=\"button\" class=\"navbar-toggler float-end collapsed\" data-bs-toggle=\"collapse\"\\n\\t\\t\\t\\t\\t\\tdata-bs-target=\"#navbar\" data-bs-target-2=\".side-collapse-container\" data-bs-target-3=\".side-collapse\"\\n\\t\\t\\t\\t\\t\\taria-expanded=\"false\" aria-controls=\"navbar\">\\n\\n\\t\\t\\t\\t\\t<span class=\"visually-hidden\">Toggle navigation</span>\\n\\t\\t\\t\\t\\t<span class=\"icon-bar top-bar\"></span>\\n\\t\\t\\t\\t\\t<span class=\"icon-bar middle-bar\"></span>\\n\\t\\t\\t\\t\\t<span class=\"icon-bar bottom-bar\"></span>\\n\\t\\t\\t\\t\\t<span class=\"icon-bar extra-bottom-bar\"></span>\\n\\n\\t\\t\\t\\t</button>\\n\\t\\t\\t</a>\\n\\t\\t\\t<div class=\"navbar-brand\">\\n\\t\\t\\t\\t<a href=\"/\"><img src=\"/img/logo_white.svg\" alt=\"Web Scraper\"></a>\\n\\t\\t\\t</div>\\n\\t\\t</div>\\n\\n\\t\\t<div class=\"side-collapse in\">\\n\\t\\t\\t<nav id=\"navbar\" role=\"navigation\" class=\"navbar-collapse collapse\">\\n\\t\\t\\t\\t<ul class=\"nav navbar-nav navbar-right\">\\n\\t\\t\\t\\t\\t<li class=\"nav-item\">\\n\\t\\t\\t\\t\\t\\t<a href=\"/\" class=\"nav-link menuitm\">\\n\\t\\t\\t\\t\\t\\t\\t<p>Web Scraper</p>\\n\\t\\t\\t\\t\\t\\t\\t<div class=\"crta\"></div>\\n\\t\\t\\t\\t\\t\\t</a>\\n\\t\\t\\t\\t\\t</li>\\n\\t\\t\\t\\t\\t<li class=\"nav-item\">\\n\\t\\t\\t\\t\\t\\t<a href=\"/cloud-scraper\" class=\"nav-link menuitm\">\\n\\t\\t\\t\\t\\t\\t\\t<p>Cloud Scraper</p>\\n\\t\\t\\t\\t\\t\\t\\t<div class=\"crta\"></div>\\n\\t\\t\\t\\t\\t\\t</a>\\n\\t\\t\\t\\t\\t</li>\\n\\t\\t\\t\\t\\t<li class=\"nav-item\">\\n\\t\\t\\t\\t\\t\\t<a href=\"/pricing\" class=\"nav-link menuitm\">\\n\\t\\t\\t\\t\\t\\t\\t<p>Pricing</p>\\n\\t\\t\\t\\t\\t\\t\\t<div class=\"crta\"></div>\\n\\t\\t\\t\\t\\t\\t</a>\\n\\t\\t\\t\\t\\t</li>\\n\\t\\t\\t\\t\\t<li class=\"nav-item dropdown\">\\n\\t\\t\\t\\t\\t\\t<a href=\"#\" class=\"menuitm nav-link dropdown-toggle\" id=\"dropdownMenuLink\" role=\"button\" data-bs-toggle=\"dropdown\" aria-haspopup=\"true\" aria-expanded=\"false\">\\n\\t\\t\\t\\t\\t\\t\\t<p>Learn</p>\\n\\t\\t\\t\\t\\t\\t\\t<div class=\"crta\"></div>\\n\\t\\t\\t\\t\\t\\t</a>\\n\\t\\t\\t\\t\\t\\t<ul class=\"dropdown-menu\" aria-labelledby=\"dropdownMenuLink\">\\n\\t\\t\\t\\t\\t\\t\\t<li>\\n\\t\\t\\t\\t\\t\\t\\t\\t<a href=\"/documentation\" class=\"dropdown-item\">Documentation</a>\\n\\t\\t\\t\\t\\t\\t\\t</li>\\n\\t\\t\\t\\t\\t\\t\\t<li>\\n\\t\\t\\t\\t\\t\\t\\t\\t<a href=\"/tutorials\" class=\"dropdown-item\">Video Tutorials</a>\\n\\t\\t\\t\\t\\t\\t\\t</li>\\n\\t\\t\\t\\t\\t\\t\\t<li>\\n\\t\\t\\t\\t\\t\\t\\t\\t<a href=\"/how-to-videos\" class=\"dropdown-item\">How to</a>\\n\\t\\t\\t\\t\\t\\t\\t</li>\\n\\t\\t\\t\\t\\t\\t\\t<li>\\n\\t\\t\\t\\t\\t\\t\\t\\t<a href=\"/test-sites\" class=\"dropdown-item\">Test Sites</a>\\n\\t\\t\\t\\t\\t\\t\\t</li>\\n\\t\\t\\t\\t\\t\\t\\t<li>\\n\\t\\t\\t\\t\\t\\t\\t\\t<a href=\"https://forum.webscraper.io/\" target=\"_blank\" rel=\"noopener\" class=\"dropdown-item\">Forum</a>\\n\\t\\t\\t\\t\\t\\t\\t</li>\\n\\t\\t\\t\\t\\t\\t</ul>\\n\\t\\t\\t\\t\\t</li>\\n\\t\\t\\t\\t\\t<li class=\"nav-item\">\\n\\t\\t\\t\\t\\t\\t<a href=\"https://chromewebstore.google.com/detail/web-scraper-free-web-scra/jnhgnonknehpejjnehehllkliplmbmhn?hl=en\" target=\"_blank\" class=\"nav-link btn-menu1 install-extension\">Install</a>\\n\\t\\t\\t\\t\\t</li>\\n\\t\\t\\t\\t\\t<li class=\"nav-item\">\\n\\t\\t\\t\\t\\t\\t<a href=\"https://cloud.webscraper.io/\" class=\"nav-link btn-menu2\">Cloud Login</a>\\n\\t\\t\\t\\t\\t</li>\\n\\t\\t\\t\\t</ul>\\n\\t\\t\\t</nav>\\n\\t\\t</div>\\n\\t</div>\\n</header>\\n\\n<div class=\"wrapper\">\\n\\t\\t<div class=\"formenu-here container-fluid\">\\n\\n\\t</div>\\n\\t<div class=\"container-fluid blog-hero\">\\n\\t\\t<div class=\"container\">\\n\\t\\t\\t<div class=\"row\">\\n\\t\\t\\t\\t<div class=\"col-lg-12\">\\n\\t\\t\\t\\t\\t<h1>Test Sites</h1>\\n\\t\\t\\t\\t</div>\\n\\t\\t\\t</div>\\n\\t\\t</div>\\n\\t</div>\\n\\n\\t<div class=\"container test-site\">\\n\\t\\t<div class=\"row\">\\n\\t\\t\\t<div class=\"col-lg-3 sidebar\">\\n\\t\\t\\t\\t<div class=\"navbar-light sidebar\" role=\"navigation\">\\n\\t<div class=\"sidebar-nav navbar-collapse\">\\n\\t\\t<ul class=\"nav flex-column\" id=\"side-menu\">\\n\\n\\t\\t\\t<li class=\"nav-item  active \">\\n\\t\\t\\t\\t<a href=\"/test-sites/e-commerce/allinone\" class=\"nav-link\">Home</a>\\n\\t\\t\\t</li>\\n\\n\\t\\t\\t\\t\\t\\t<li class=\"nav-item \">\\n\\t\\t\\t\\t<a href=\"/test-sites/e-commerce/allinone/computers\" class=\"category-link nav-link \">\\n\\t\\t\\t\\t\\tComputers\\n\\t\\t\\t\\t\\t<i class=\"ws-icon  ws-icon-right \"></i>\\n\\t\\t\\t\\t</a>\\n\\n\\t\\t\\t\\t\\t\\t\\t\\t</li>\\n\\t\\t\\t\\t\\t\\t<li class=\"nav-item \">\\n\\t\\t\\t\\t<a href=\"/test-sites/e-commerce/allinone/phones\" class=\"category-link nav-link \">\\n\\t\\t\\t\\t\\tPhones\\n\\t\\t\\t\\t\\t<i class=\"ws-icon  ws-icon-right \"></i>\\n\\t\\t\\t\\t</a>\\n\\n\\t\\t\\t\\t\\t\\t\\t\\t</li>\\n\\t\\t\\t\\t\\t</ul>\\n\\t</div>\\n</div>\\n\\n\\t\\t\\t</div>\\n\\t\\t\\t<div class=\"col-lg-9\">\\n\\t\\t\\t\\t\\t\\t\\t\\t<div class=\"card thumbnail\">\\n\\t\\t\\t\\t\\t<div class=\"product-wrapper card-body\">\\n\\t\\t\\t\\t\\t\\t<div class=\"row\">\\n\\t\\t\\t\\t\\t\\t\\t<div class=\"col-xl-2\">\\n\\t\\t\\t\\t\\t\\t\\t\\t<img class=\"image img-fluid img-responsive\" alt=\"item\" src=\"/images/test-sites/e-commerce/items/cart2.png\">\\n\\t\\t\\t\\t\\t\\t\\t</div>\\n\\t\\t\\t\\t\\t\\t\\t<div class=\"col-xl-10\">\\n\\t\\t\\t\\t\\t\\t\\t\\t<div class=\"caption\">\\n\\t\\t\\t\\t\\t\\t\\t\\t\\t<h4 class=\"price float-end pull-right\">$379.94</h4>\\n\\t\\t\\t\\t\\t\\t\\t\\t\\t<h4 class=\"title card-title\">Acer Aspire A315-31-C33J</h4>\\n\\t\\t\\t\\t\\t\\t\\t\\t\\t<p class=\"description card-text\">Acer Aspire A315-31-C33J Black 15.6&quot;, HD, Celeron N3350, 4GB DDR3L, 128GB, Windows 10 Home, ENG</p>\\n\\n\\t\\t\\t\\t\\t\\t\\t\\t</div>\\n\\t\\t\\t\\t\\t\\t\\t\\t\\t\\t\\t\\t\\t\\t\\t\\t\\t\\t\\t\\t\\t\\t\\t\\t\\t<label class=\"memory\">HDD:</label>\\n\\t\\t\\t\\t\\t\\t\\t\\t\\t<div class=\"swatches\">\\n\\t\\t\\t\\t\\t\\t\\t\\t\\t\\t\\t\\t\\t\\t\\t\\t\\t\\t\\t\\t\\t<button type=\"button\" class=\"btn swatch\\n\\t\\t\\t\\t\\t\\t\\t\\t\\t\\t\\t\\t\\n\\t\\t\\t\\t\\t\\t\\t\\t\\t\\t\\t\\tbtn-primary active\"\\n\\t\\t\\t\\t\\t\\t\\t\\t\\t\\t\\t\\t\\tvalue=\"128\"\\n\\t\\t\\t\\t\\t\\t\\t\\t\\t\\t\\t\\t\\t>128</button>\\n\\t\\t\\t\\t\\t\\t\\t\\t\\t\\t\\t\\t\\t\\t\\t\\t\\t\\t\\t\\t\\t<button type=\"button\" class=\"btn swatch\\n\\t\\t\\t\\t\\t\\t\\t\\t\\t\\t\\t\\t\\n\\t\\t\\t\\t\\t\\t\\t\\t\\t\\t\\t\\t\"\\n\\t\\t\\t\\t\\t\\t\\t\\t\\t\\t\\t\\t\\tvalue=\"256\"\\n\\t\\t\\t\\t\\t\\t\\t\\t\\t\\t\\t\\t\\t>256</button>\\n\\t\\t\\t\\t\\t\\t\\t\\t\\t\\t\\t\\t\\t\\t\\t\\t\\t\\t\\t\\t\\t<button type=\"button\" class=\"btn swatch\\n\\t\\t\\t\\t\\t\\t\\t\\t\\t\\t\\t\\t\\n\\t\\t\\t\\t\\t\\t\\t\\t\\t\\t\\t\\t\"\\n\\t\\t\\t\\t\\t\\t\\t\\t\\t\\t\\t\\t\\tvalue=\"512\"\\n\\t\\t\\t\\t\\t\\t\\t\\t\\t\\t\\t\\t\\t>512</button>\\n\\t\\t\\t\\t\\t\\t\\t\\t\\t\\t\\t\\t\\t\\t\\t\\t\\t\\t\\t\\t\\t<button type=\"button\" class=\"btn swatch\\n\\t\\t\\t\\t\\t\\t\\t\\t\\t\\t\\t\\tdisabled\\n\\t\\t\\t\\t\\t\\t\\t\\t\\t\\t\\t\\t\"\\n\\t\\t\\t\\t\\t\\t\\t\\t\\t\\t\\t\\t\\tvalue=\"1024\"\\n\\t\\t\\t\\t\\t\\t\\t\\t\\t\\t\\t\\t\\t>1024</button>\\n\\t\\t\\t\\t\\t\\t\\t\\t\\t\\t\\t\\t\\t\\t\\t\\t\\t\\t\\t</div>\\n\\t\\t\\t\\t\\t\\t\\t\\t\\t\\t\\t\\t\\t\\t\\t\\t<div class=\"ratings\">\\n\\t\\t\\t\\t\\t\\t\\t\\t\\t<p class=\"review-count\">\\n\\t\\t\\t\\t\\t\\t\\t\\t\\t\\t0 reviews\\n\\t\\t\\t\\t\\t\\t\\t\\t\\t\\t\\t\\t\\t\\t\\t\\t\\t\\t\\t\\t<span class=\"ws-icon ws-icon-star\"></span>\\n\\t\\t\\t\\t\\t\\t\\t\\t\\t\\t\\t\\t\\t\\t\\t\\t\\t\\t\\t\\t<span class=\"ws-icon ws-icon-star\"></span>\\n\\t\\t\\t\\t\\t\\t\\t\\t\\t\\t\\t\\t\\t\\t\\t\\t\\t\\t\\t</p>\\n\\t\\t\\t\\t\\t\\t\\t\\t</div>\\n\\t\\t\\t\\t\\t\\t\\t</div>\\n\\t\\t\\t\\t\\t\\t</div>\\n\\t\\t\\t\\t\\t</div>\\n\\t\\t\\t\\t</div>\\n\\t\\t\\t</div>\\n\\t\\t</div>\\n\\t</div>\\n\\t<div class=\"clearfix\"></div>\\n\\t<div class=\"push\"></div>\\n</div>\\n\\n<div class=\"container-fluid footer\" id=\"layout-footer\">\\n\\t<div class=\"container\">\\n\\t\\t<div class=\"row\">\\n\\t\\t\\t<div class=\"col-lg-3\">\\n\\t\\t\\t\\t<ul>\\n\\t\\t\\t\\t\\t<li><p>Products</p></li>\\n\\t\\t\\t\\t\\t<li>\\n\\t\\t\\t\\t\\t\\t<a href=\"/\">Web Scraper browser extension</a>\\n\\t\\t\\t\\t\\t</li>\\n\\t\\t\\t\\t\\t<li>\\n\\t\\t\\t\\t\\t\\t<a href=\"/pricing\">Web Scraper Cloud</a>\\n\\t\\t\\t\\t\\t</li>\\n\\t\\t\\t\\t</ul>\\n\\t\\t\\t</div>\\n\\t\\t\\t<div class=\"col-lg-3\">\\n\\t\\t\\t\\t<ul>\\n\\t\\t\\t\\t\\t<li><p>Company</p></li>\\n\\t\\t\\t\\t\\t<li>\\n\\t\\t\\t\\t\\t\\t<a href=\"/about-us\">About us</a>\\n\\t\\t\\t\\t\\t</li>\\n\\t\\t\\t\\t\\t<li>\\n\\t\\t\\t\\t\\t\\t<a href=\"/contact\">Contact</a>\\n\\t\\t\\t\\t\\t</li>\\n\\t\\t\\t\\t\\t<li>\\n\\t\\t\\t\\t\\t\\t<a href=\"/privacy-policy\">Website Privacy Policy</a>\\n\\t\\t\\t\\t\\t</li>\\n\\t\\t\\t\\t\\t<li>\\n\\t\\t\\t\\t\\t\\t<a href=\"/extension-privacy-policy\">Browser Extension Privacy Policy</a>\\n\\t\\t\\t\\t\\t</li>\\n\\t\\t\\t\\t\\t<li>\\n\\t\\t\\t\\t\\t\\t<a href=\"https://webscraper.io/downloads/Web_Scraper_Media_Kit.zip\">Media kit</a>\\n\\t\\t\\t\\t\\t</li>\\n\\t\\t\\t\\t\\t<li><a href=\"/jobs\">Jobs</a></li>\\n\\t\\t\\t\\t</ul>\\n\\t\\t\\t</div>\\n\\t\\t\\t<div class=\"col-lg-3\">\\n\\t\\t\\t\\t<ul>\\n\\t\\t\\t\\t\\t<li><p>Resources</p></li>\\n\\t\\t\\t\\t\\t<li><a href=\"/blog\">Blog</a></li>\\n\\t\\t\\t\\t\\t<li>\\n\\t\\t\\t\\t\\t\\t<a href=\"/documentation\">Documentation</a>\\n\\t\\t\\t\\t\\t</li>\\n\\t\\t\\t\\t\\t<li>\\n\\t\\t\\t\\t\\t\\t<a href=\"/tutorials\">Video Tutorials</a>\\n\\t\\t\\t\\t\\t</li>\\n\\t\\t\\t\\t\\t<li>\\n\\t\\t\\t\\t\\t\\t<a href=\"/screenshots\">Screenshots</a>\\n\\t\\t\\t\\t\\t</li>\\n\\t\\t\\t\\t\\t<li>\\n\\t\\t\\t\\t\\t\\t<a href=\"/test-sites\">Test Sites</a>\\n\\t\\t\\t\\t\\t</li>\\n\\t\\t\\t\\t\\t<li>\\n\\t\\t\\t\\t\\t\\t<a target=\"_blank\" href=\"https://forum.webscraper.io/\" rel=\"noopener\">Forum</a>\\n\\t\\t\\t\\t\\t</li>\\n\\t\\t\\t\\t\\t<li>\\n\\t\\t\\t\\t\\t\\t<a target=\"_blank\" href=\"https://status.webscraper.io/\" rel=\"noopener\">Status</a>\\n\\t\\t\\t\\t\\t</li>\\n\\t\\t\\t\\t</ul>\\n\\t\\t\\t</div>\\n\\t\\t\\t<div class=\"col-lg-3\">\\n\\t\\t\\t\\t<ul>\\n\\t\\t\\t\\t\\t<li><p>CONTACT US</p></li>\\n\\t\\t\\t\\t\\t<li>\\n\\t\\t\\t\\t\\t\\t<a href=\"mailto:info@webscraper.io\">info@webscraper.io</a>\\n\\t\\t\\t\\t\\t</li>\\n\\t\\t\\t\\t\\t<li>Ubelu 5-71,<br> Adazi, Latvia, LV-2164</li>\\n\\t\\t\\t\\t</ul>\\n\\t\\t\\t\\t<ul class=\"smedia\">\\n\\t\\t\\t\\t\\t<li>\\n\\t\\t\\t\\t\\t\\t<a href=\"https://www.facebook.com/webscraperio/\" target=\"_blank\" rel=\"noopener\">\\n\\t\\t\\t\\t\\t\\t\\t<i class=\"ws-icon ws-icon-facebook-f\"></i>\\n\\t\\t\\t\\t\\t\\t</a>\\n\\t\\t\\t\\t\\t</li>\\n\\t\\t\\t\\t\\t<li>\\n\\t\\t\\t\\t\\t\\t<a href=\"https://twitter.com/webscraperio\" target=\"_blank\" rel=\"noopener\">\\n\\t\\t\\t\\t\\t\\t\\t<i class=\"ws-icon ws-icon-twitter\"></i>\\n\\t\\t\\t\\t\\t\\t</a>\\n\\t\\t\\t\\t\\t</li>\\n\\t\\t\\t\\t\\t<li>\\n\\t\\t\\t\\t\\t\\t<a href=\"https://lv.linkedin.com/company/web-scraper\" target=\"_blank\" rel=\"noopener\">\\n\\t\\t\\t\\t\\t\\t\\t<i class=\"ws-icon ws-icon-linkedin\"></i>\\n\\t\\t\\t\\t\\t\\t</a>\\n\\t\\t\\t\\t\\t</li>\\n\\t\\t\\t\\t\\t<li>\\n\\t\\t\\t\\t\\t\\t<a href=\"https://youtube.com/@WebScraper/videos\" target=\"_blank\" rel=\"noopener\">\\n\\t\\t\\t\\t\\t\\t\\t<i class=\"ws-icon ws-icon-youtube\"></i>\\n\\t\\t\\t\\t\\t\\t</a>\\n\\t\\t\\t\\t\\t</li>\\n\\t\\t\\t\\t\\t<li>\\n\\t\\t\\t\\t\\t\\t<a class=\"install-extension browser-icon-dark\" href=\"https://chromewebstore.google.com/detail/web-scraper-free-web-scra/jnhgnonknehpejjnehehllkliplmbmhn?hl=en\" target=\"_blank\" rel=\"noopener\">\\n\\t\\t\\t\\t\\t\\t\\t<i class=\"ws-icon ws-icon-chrome-dark\"></i>\\n\\t\\t\\t\\t\\t\\t</a>\\n\\t\\t\\t\\t\\t</li>\\n\\t\\t\\t\\t</ul>\\n\\t\\t\\t</div>\\n\\t\\t</div>\\n\\t\\t<div class=\"row\">\\n\\t\\t\\t<div class=\"col-lg-12\">\\n\\t\\t\\t\\t<p class=\"copyright\">Copyright &copy 2024\\n\\t\\t\\t\\t\\t<a href=\"#\">Web Scraper</a> | All rights\\n\\t\\t\\t\\t\\treserved</p>\\n\\t\\t\\t</div>\\n\\t\\t</div>\\n\\t</div>\\n</div>\\n\\n\\n</body>\\n</html>\\n'"
      ]
     },
     "execution_count": 8,
     "metadata": {},
     "output_type": "execute_result"
    }
   ],
   "source": [
    "response.content"
   ]
  },
  {
   "cell_type": "code",
   "execution_count": 9,
   "metadata": {},
   "outputs": [
    {
     "data": {
      "text/plain": [
       "{'product_name': 'Acer Aspire A315-31-C33J',\n",
       " 'product_description': 'Acer Aspire A315-31-C33J Black 15.6\", HD, Celeron N3350, 4GB DDR3L, 128GB, Windows 10 Home, ENG',\n",
       " 'product_price': '$379.94'}"
      ]
     },
     "execution_count": 9,
     "metadata": {},
     "output_type": "execute_result"
    }
   ],
   "source": [
    "# Parseamos el contenido HTML de la primera URL\n",
    "soup_first_url = BeautifulSoup(response.text, 'html.parser')\n",
    "\n",
    "# Extraemos los detalles del producto\n",
    "record = {}\n",
    "record[\"product_name\"] = soup_first_url.find(class_='title').get_text(strip=True)\n",
    "record[\"product_description\"] = soup_first_url.find(class_='description').get_text(strip=True)\n",
    "record[\"product_price\"] = soup_first_url.find(class_='price').get_text(strip=True)\n",
    "\n",
    "record"
   ]
  },
  {
   "cell_type": "markdown",
   "metadata": {},
   "source": [
    "Podemos crear un funcion que haga scraping de la pagina de un producto.\n",
    "Esta vez solo pasamos el `url` de la pagina del producto."
   ]
  },
  {
   "cell_type": "code",
   "execution_count": 10,
   "metadata": {},
   "outputs": [
    {
     "data": {
      "text/plain": [
       "{'group_name': 'GRUPO-X',\n",
       " 'product_name': 'Acer Aspire A315-31-C33J',\n",
       " 'product_description': 'Acer Aspire A315-31-C33J Black 15.6\", HD, Celeron N3350, 4GB DDR3L, 128GB, Windows 10 Home, ENG',\n",
       " 'product_price': '$379.94'}"
      ]
     },
     "execution_count": 10,
     "metadata": {},
     "output_type": "execute_result"
    }
   ],
   "source": [
    "GRUPO = \"X\"\n",
    "def scrap_product_page(session: requests.Session, url: str):\n",
    "    response = session.get(url)\n",
    "    # Parseamos el contenido HTML de la primera URL\n",
    "    soup_first_url = BeautifulSoup(response.text, 'html.parser')\n",
    "\n",
    "    # Extraemos los detalles del producto\n",
    "    record = {}\n",
    "    \n",
    "    record[\"group_name\"] = f\"GRUPO-{GRUPO}\"\n",
    "    record[\"product_name\"] = soup_first_url.find(class_='title').get_text(strip=True)\n",
    "    record[\"product_description\"] = soup_first_url.find(class_='description').get_text(strip=True)\n",
    "    record[\"product_price\"] = soup_first_url.find(class_='price').get_text(strip=True)\n",
    "\n",
    "    return record\n",
    "\n",
    "scrap_product_page(session=session, url=url)"
   ]
  },
  {
   "cell_type": "markdown",
   "metadata": {},
   "source": [
    "Ahora itentemos scrapear todos los productos de telefonos/touch"
   ]
  },
  {
   "cell_type": "code",
   "execution_count": 11,
   "metadata": {},
   "outputs": [
    {
     "name": "stdout",
     "output_type": "stream",
     "text": [
      "[{'group_name': 'GRUPO-X',\n",
      "  'product_description': '7 day battery',\n",
      "  'product_name': 'Nokia 123',\n",
      "  'product_price': '$24.99'}]\n",
      "[{'group_name': 'GRUPO-X',\n",
      "  'product_description': '7 day battery',\n",
      "  'product_name': 'Nokia 123',\n",
      "  'product_price': '$24.99'},\n",
      " {'group_name': 'GRUPO-X',\n",
      "  'product_description': '3.2\" screen',\n",
      "  'product_name': 'LG Optimus',\n",
      "  'product_price': '$57.99'}]\n",
      "[{'group_name': 'GRUPO-X',\n",
      "  'product_description': '7 day battery',\n",
      "  'product_name': 'Nokia 123',\n",
      "  'product_price': '$24.99'},\n",
      " {'group_name': 'GRUPO-X',\n",
      "  'product_description': '3.2\" screen',\n",
      "  'product_name': 'LG Optimus',\n",
      "  'product_price': '$57.99'},\n",
      " {'group_name': 'GRUPO-X',\n",
      "  'product_description': '5 mpx. Android 5.0',\n",
      "  'product_name': 'Samsung Galaxy',\n",
      "  'product_price': '$93.99'}]\n",
      "[{'group_name': 'GRUPO-X',\n",
      "  'product_description': '7 day battery',\n",
      "  'product_name': 'Nokia 123',\n",
      "  'product_price': '$24.99'},\n",
      " {'group_name': 'GRUPO-X',\n",
      "  'product_description': '3.2\" screen',\n",
      "  'product_name': 'LG Optimus',\n",
      "  'product_price': '$57.99'},\n",
      " {'group_name': 'GRUPO-X',\n",
      "  'product_description': '5 mpx. Android 5.0',\n",
      "  'product_name': 'Samsung Galaxy',\n",
      "  'product_price': '$93.99'},\n",
      " {'group_name': 'GRUPO-X',\n",
      "  'product_description': 'Andoid, Jolla dualboot',\n",
      "  'product_name': 'Nokia X',\n",
      "  'product_price': '$109.99'}]\n",
      "[{'group_name': 'GRUPO-X',\n",
      "  'product_description': '7 day battery',\n",
      "  'product_name': 'Nokia 123',\n",
      "  'product_price': '$24.99'},\n",
      " {'group_name': 'GRUPO-X',\n",
      "  'product_description': '3.2\" screen',\n",
      "  'product_name': 'LG Optimus',\n",
      "  'product_price': '$57.99'},\n",
      " {'group_name': 'GRUPO-X',\n",
      "  'product_description': '5 mpx. Android 5.0',\n",
      "  'product_name': 'Samsung Galaxy',\n",
      "  'product_price': '$93.99'},\n",
      " {'group_name': 'GRUPO-X',\n",
      "  'product_description': 'Andoid, Jolla dualboot',\n",
      "  'product_name': 'Nokia X',\n",
      "  'product_price': '$109.99'},\n",
      " {'group_name': 'GRUPO-X',\n",
      "  'product_description': 'GPS, waterproof',\n",
      "  'product_name': 'Sony Xperia',\n",
      "  'product_price': '$118.99'}]\n",
      "[{'group_name': 'GRUPO-X',\n",
      "  'product_description': '7 day battery',\n",
      "  'product_name': 'Nokia 123',\n",
      "  'product_price': '$24.99'},\n",
      " {'group_name': 'GRUPO-X',\n",
      "  'product_description': '3.2\" screen',\n",
      "  'product_name': 'LG Optimus',\n",
      "  'product_price': '$57.99'},\n",
      " {'group_name': 'GRUPO-X',\n",
      "  'product_description': '5 mpx. Android 5.0',\n",
      "  'product_name': 'Samsung Galaxy',\n",
      "  'product_price': '$93.99'},\n",
      " {'group_name': 'GRUPO-X',\n",
      "  'product_description': 'Andoid, Jolla dualboot',\n",
      "  'product_name': 'Nokia X',\n",
      "  'product_price': '$109.99'},\n",
      " {'group_name': 'GRUPO-X',\n",
      "  'product_description': 'GPS, waterproof',\n",
      "  'product_name': 'Sony Xperia',\n",
      "  'product_price': '$118.99'},\n",
      " {'group_name': 'GRUPO-X',\n",
      "  'product_description': 'Sapphire glass',\n",
      "  'product_name': 'Ubuntu Edge',\n",
      "  'product_price': '$499.99'}]\n",
      "[{'group_name': 'GRUPO-X',\n",
      "  'product_description': '7 day battery',\n",
      "  'product_name': 'Nokia 123',\n",
      "  'product_price': '$24.99'},\n",
      " {'group_name': 'GRUPO-X',\n",
      "  'product_description': '3.2\" screen',\n",
      "  'product_name': 'LG Optimus',\n",
      "  'product_price': '$57.99'},\n",
      " {'group_name': 'GRUPO-X',\n",
      "  'product_description': '5 mpx. Android 5.0',\n",
      "  'product_name': 'Samsung Galaxy',\n",
      "  'product_price': '$93.99'},\n",
      " {'group_name': 'GRUPO-X',\n",
      "  'product_description': 'Andoid, Jolla dualboot',\n",
      "  'product_name': 'Nokia X',\n",
      "  'product_price': '$109.99'},\n",
      " {'group_name': 'GRUPO-X',\n",
      "  'product_description': 'GPS, waterproof',\n",
      "  'product_name': 'Sony Xperia',\n",
      "  'product_price': '$118.99'},\n",
      " {'group_name': 'GRUPO-X',\n",
      "  'product_description': 'Sapphire glass',\n",
      "  'product_name': 'Ubuntu Edge',\n",
      "  'product_price': '$499.99'},\n",
      " {'group_name': 'GRUPO-X',\n",
      "  'product_description': 'White',\n",
      "  'product_name': 'Iphone',\n",
      "  'product_price': '$899.99'}]\n",
      "[{'group_name': 'GRUPO-X',\n",
      "  'product_description': '7 day battery',\n",
      "  'product_name': 'Nokia 123',\n",
      "  'product_price': '$24.99'},\n",
      " {'group_name': 'GRUPO-X',\n",
      "  'product_description': '3.2\" screen',\n",
      "  'product_name': 'LG Optimus',\n",
      "  'product_price': '$57.99'},\n",
      " {'group_name': 'GRUPO-X',\n",
      "  'product_description': '5 mpx. Android 5.0',\n",
      "  'product_name': 'Samsung Galaxy',\n",
      "  'product_price': '$93.99'},\n",
      " {'group_name': 'GRUPO-X',\n",
      "  'product_description': 'Andoid, Jolla dualboot',\n",
      "  'product_name': 'Nokia X',\n",
      "  'product_price': '$109.99'},\n",
      " {'group_name': 'GRUPO-X',\n",
      "  'product_description': 'GPS, waterproof',\n",
      "  'product_name': 'Sony Xperia',\n",
      "  'product_price': '$118.99'},\n",
      " {'group_name': 'GRUPO-X',\n",
      "  'product_description': 'Sapphire glass',\n",
      "  'product_name': 'Ubuntu Edge',\n",
      "  'product_price': '$499.99'},\n",
      " {'group_name': 'GRUPO-X',\n",
      "  'product_description': 'White',\n",
      "  'product_name': 'Iphone',\n",
      "  'product_price': '$899.99'},\n",
      " {'group_name': 'GRUPO-X',\n",
      "  'product_description': 'Silver',\n",
      "  'product_name': 'Iphone',\n",
      "  'product_price': '$899.99'}]\n",
      "[{'group_name': 'GRUPO-X',\n",
      "  'product_description': '7 day battery',\n",
      "  'product_name': 'Nokia 123',\n",
      "  'product_price': '$24.99'},\n",
      " {'group_name': 'GRUPO-X',\n",
      "  'product_description': '3.2\" screen',\n",
      "  'product_name': 'LG Optimus',\n",
      "  'product_price': '$57.99'},\n",
      " {'group_name': 'GRUPO-X',\n",
      "  'product_description': '5 mpx. Android 5.0',\n",
      "  'product_name': 'Samsung Galaxy',\n",
      "  'product_price': '$93.99'},\n",
      " {'group_name': 'GRUPO-X',\n",
      "  'product_description': 'Andoid, Jolla dualboot',\n",
      "  'product_name': 'Nokia X',\n",
      "  'product_price': '$109.99'},\n",
      " {'group_name': 'GRUPO-X',\n",
      "  'product_description': 'GPS, waterproof',\n",
      "  'product_name': 'Sony Xperia',\n",
      "  'product_price': '$118.99'},\n",
      " {'group_name': 'GRUPO-X',\n",
      "  'product_description': 'Sapphire glass',\n",
      "  'product_name': 'Ubuntu Edge',\n",
      "  'product_price': '$499.99'},\n",
      " {'group_name': 'GRUPO-X',\n",
      "  'product_description': 'White',\n",
      "  'product_name': 'Iphone',\n",
      "  'product_price': '$899.99'},\n",
      " {'group_name': 'GRUPO-X',\n",
      "  'product_description': 'Silver',\n",
      "  'product_name': 'Iphone',\n",
      "  'product_price': '$899.99'},\n",
      " {'group_name': 'GRUPO-X',\n",
      "  'product_description': 'Black',\n",
      "  'product_name': 'Iphone',\n",
      "  'product_price': '$899.99'}]\n"
     ]
    },
    {
     "data": {
      "text/plain": [
       "[{'group_name': 'GRUPO-X',\n",
       "  'product_name': 'Nokia 123',\n",
       "  'product_description': '7 day battery',\n",
       "  'product_price': '$24.99'},\n",
       " {'group_name': 'GRUPO-X',\n",
       "  'product_name': 'LG Optimus',\n",
       "  'product_description': '3.2\" screen',\n",
       "  'product_price': '$57.99'},\n",
       " {'group_name': 'GRUPO-X',\n",
       "  'product_name': 'Samsung Galaxy',\n",
       "  'product_description': '5 mpx. Android 5.0',\n",
       "  'product_price': '$93.99'},\n",
       " {'group_name': 'GRUPO-X',\n",
       "  'product_name': 'Nokia X',\n",
       "  'product_description': 'Andoid, Jolla dualboot',\n",
       "  'product_price': '$109.99'},\n",
       " {'group_name': 'GRUPO-X',\n",
       "  'product_name': 'Sony Xperia',\n",
       "  'product_description': 'GPS, waterproof',\n",
       "  'product_price': '$118.99'},\n",
       " {'group_name': 'GRUPO-X',\n",
       "  'product_name': 'Ubuntu Edge',\n",
       "  'product_description': 'Sapphire glass',\n",
       "  'product_price': '$499.99'},\n",
       " {'group_name': 'GRUPO-X',\n",
       "  'product_name': 'Iphone',\n",
       "  'product_description': 'White',\n",
       "  'product_price': '$899.99'},\n",
       " {'group_name': 'GRUPO-X',\n",
       "  'product_name': 'Iphone',\n",
       "  'product_description': 'Silver',\n",
       "  'product_price': '$899.99'},\n",
       " {'group_name': 'GRUPO-X',\n",
       "  'product_name': 'Iphone',\n",
       "  'product_description': 'Black',\n",
       "  'product_price': '$899.99'}]"
      ]
     },
     "execution_count": 11,
     "metadata": {},
     "output_type": "execute_result"
    }
   ],
   "source": [
    "# Vamos a la pagina de telefonos touch\n",
    "response = session.get('https://webscraper.io/test-sites/e-commerce/allinone/phones/touch')\n",
    "sleep(3)\n",
    "\n",
    "\n",
    "# Parse the HTML content\n",
    "soup = BeautifulSoup(response.content, 'html.parser')\n",
    "\n",
    "# Find all <a> tags within the desired elements\n",
    "all_rows = soup.find_all(class_=\"row\")\n",
    "row_with_items = all_rows[2]\n",
    "tag_a_elements = row_with_items.find_all('a', href=True)\n",
    "\n",
    "# Extract URLs\n",
    "urls = [f'https://webscraper.io{element[\"href\"]}' for element in tag_a_elements]\n",
    "\n",
    "# List to store results\n",
    "results = []\n",
    "\n",
    "# Scraping each URL\n",
    "for url in urls:\n",
    "    result = scrap_product_page(session=session, url=url)\n",
    "    results.append(result)\n",
    "    pprint(results)\n",
    "    sleep(1)\n",
    "\n",
    "results"
   ]
  },
  {
   "cell_type": "markdown",
   "metadata": {},
   "source": [
    "Finalmente lo guardamos en una base de datos"
   ]
  },
  {
   "cell_type": "code",
   "execution_count": 12,
   "metadata": {},
   "outputs": [
    {
     "data": {
      "text/plain": [
       "True"
      ]
     },
     "execution_count": 12,
     "metadata": {},
     "output_type": "execute_result"
    }
   ],
   "source": [
    "# Load .env file\n",
    "load_dotenv()"
   ]
  },
  {
   "cell_type": "code",
   "execution_count": 13,
   "metadata": {},
   "outputs": [],
   "source": [
    "# Connect to MongoDB\n",
    "client = MongoClient(environ[\"DB_CONNECTION_STRING\"])\n",
    "\n",
    "# Specify the database and collection\n",
    "db = client[\"AYPMD\"]\n",
    "collection = db[\"SCRAPING_TEST_REQUESTS\"]"
   ]
  },
  {
   "cell_type": "code",
   "execution_count": 14,
   "metadata": {},
   "outputs": [
    {
     "data": {
      "text/plain": [
       "InsertManyResult([ObjectId('664e7dfa872fdef860253a20'), ObjectId('664e7dfa872fdef860253a21'), ObjectId('664e7dfa872fdef860253a22'), ObjectId('664e7dfa872fdef860253a23'), ObjectId('664e7dfa872fdef860253a24'), ObjectId('664e7dfa872fdef860253a25'), ObjectId('664e7dfa872fdef860253a26'), ObjectId('664e7dfa872fdef860253a27'), ObjectId('664e7dfa872fdef860253a28')], acknowledged=True)"
      ]
     },
     "execution_count": 14,
     "metadata": {},
     "output_type": "execute_result"
    }
   ],
   "source": [
    "collection.insert_many(results)"
   ]
  },
  {
   "cell_type": "code",
   "execution_count": 15,
   "metadata": {},
   "outputs": [
    {
     "data": {
      "text/plain": [
       "[{'_id': ObjectId('664e6eeb0b90ba5dbc965a19'),\n",
       "  'group_name': 'GRUPO-X',\n",
       "  'product_name': 'Nokia 123',\n",
       "  'product_description': '7 day battery',\n",
       "  'product_price': '$24.99'},\n",
       " {'_id': ObjectId('664e6eeb0b90ba5dbc965a1a'),\n",
       "  'group_name': 'GRUPO-X',\n",
       "  'product_name': 'LG Optimus',\n",
       "  'product_description': '3.2\" screen',\n",
       "  'product_price': '$57.99'},\n",
       " {'_id': ObjectId('664e6eeb0b90ba5dbc965a1b'),\n",
       "  'group_name': 'GRUPO-X',\n",
       "  'product_name': 'Samsung Galaxy',\n",
       "  'product_description': '5 mpx. Android 5.0',\n",
       "  'product_price': '$93.99'}]"
      ]
     },
     "execution_count": 15,
     "metadata": {},
     "output_type": "execute_result"
    }
   ],
   "source": [
    "# Define the query (bring all items of my group)\n",
    "query = {}\n",
    "\n",
    "# Execute the query and retrieve 3 documents\n",
    "query_results = collection.find(query).limit(3)\n",
    "list(query_results)"
   ]
  },
  {
   "cell_type": "code",
   "execution_count": 16,
   "metadata": {},
   "outputs": [],
   "source": [
    "client.close()"
   ]
  }
 ],
 "metadata": {
  "kernelspec": {
   "display_name": "Python 3",
   "language": "python",
   "name": "python3"
  },
  "language_info": {
   "codemirror_mode": {
    "name": "ipython",
    "version": 3
   },
   "file_extension": ".py",
   "mimetype": "text/x-python",
   "name": "python",
   "nbconvert_exporter": "python",
   "pygments_lexer": "ipython3",
   "version": "3.11.9"
  }
 },
 "nbformat": 4,
 "nbformat_minor": 2
}
